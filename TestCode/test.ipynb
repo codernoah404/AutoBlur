{
 "cells": [
  {
   "cell_type": "code",
   "execution_count": 1,
   "metadata": {},
   "outputs": [],
   "source": [
    "import cv2\n",
    "from ultralytics import YOLO\n",
    "import numpy as np\n",
    "from tqdm import tqdm"
   ]
  },
  {
   "cell_type": "code",
   "execution_count": 7,
   "metadata": {},
   "outputs": [
    {
     "name": "stderr",
     "output_type": "stream",
     "text": [
      "OpenCV: FFMPEG: tag 0x58564944/'DIVX' is not supported with codec id 12 and format 'mp4 / MP4 (MPEG-4 Part 14)'\n",
      "OpenCV: FFMPEG: fallback to use tag 0x7634706d/'mp4v'\n",
      "100%|██████████| 1674/1674 [07:49<00:00,  3.57it/s]\n"
     ]
    },
    {
     "data": {
      "text/plain": [
       "-1"
      ]
     },
     "execution_count": 7,
     "metadata": {},
     "output_type": "execute_result"
    }
   ],
   "source": [
    "model = YOLO('../model/yolov8m-face.pt')\n",
    "cap = cv2.VideoCapture('testvideoShorts.mp4')\n",
    "fps = round(cap.get(cv2.CAP_PROP_FPS))\n",
    "w = round(cap.get(cv2.CAP_PROP_FRAME_WIDTH))\n",
    "h = round(cap.get(cv2.CAP_PROP_FRAME_HEIGHT))\n",
    "fourcc = cv2.VideoWriter_fourcc(*'DIVX')\n",
    "saveVideo = cv2.VideoWriter('outputShort.mp4', fourcc, fps, (w, h))\n",
    "\n",
    "for i in tqdm(range(int(cap.get(cv2.CAP_PROP_FRAME_COUNT)))):\n",
    "# while(True):\n",
    "    retval, frame = cap.read()\n",
    "    \n",
    "    if not(retval):\t# 프레임정보를 정상적으로 읽지 못하면\n",
    "        break  # while문을 빠져나가기\n",
    "    \n",
    "    else:\n",
    "        results = model(frame, stream=True ,verbose=False)\n",
    "        \n",
    "        for result in results:\n",
    "            for box in result.boxes:\n",
    "                left_x = int(box.xyxy.tolist()[0][0])\n",
    "                left_y = int(box.xyxy.tolist()[0][1])\n",
    "                right_x = int(box.xyxy.tolist()[0][2])\n",
    "                right_y = int(box.xyxy.tolist()[0][3])\n",
    "                \n",
    "                face = frame[left_y:right_y, left_x:right_x]\n",
    "                \n",
    "                frame[left_y:right_y, left_x:right_x] = cv2.blur(face, (40, 40))\n",
    "\t\t\t\t\n",
    "        saveVideo.write(frame)\n",
    "            \n",
    "        if cv2.waitKey(1) == ord('q'):\n",
    "            break\n",
    "\n",
    "    \n",
    "if cap.isOpened():\t# 영상 파일(카메라)이 정상적으로 열렸는지(초기화되었는지) 여부\n",
    "    cap.release()\t# 영상 파일(카메라) 사용을 종료\n",
    "    saveVideo.release()\n",
    "    \n",
    "cv2.destroyAllWindows() \n",
    "cv2.waitKey(1) #맥에서 창 종료가 안되는 문제 해결\n",
    "cv2.waitKey(1)\n",
    "cv2.waitKey(1)\n",
    "cv2.waitKey(1)"
   ]
  },
  {
   "cell_type": "code",
   "execution_count": null,
   "metadata": {},
   "outputs": [],
   "source": [
    "# model = YOLO('../model/yolov8m-face.pt')\n",
    "# cap = cv2.VideoCapture('testvideoShorts.mp4')\n",
    "# fps = round(cap.get(cv2.CAP_PROP_FPS))\n",
    "# w = round(cap.get(cv2.CAP_PROP_FRAME_WIDTH))\n",
    "# h = round(cap.get(cv2.CAP_PROP_FRAME_HEIGHT))\n",
    "# fourcc = cv2.VideoWriter_fourcc(*'DIVX')\n",
    "# saveVideo = cv2.VideoWriter('outputShort.mp4', fourcc, fps, (w, h))\n",
    "\n",
    "# for i in tqdm(range(int(cap.get(cv2.CAP_PROP_FRAME_COUNT)))):\n",
    "# # while(True):\n",
    "#     retval, frame = cap.read()\n",
    "    \n",
    "#     if not(retval):\t# 프레임정보를 정상적으로 읽지 못하면\n",
    "#         break  # while문을 빠져나가기\n",
    "    \n",
    "#     else:\n",
    "#         results = model(frame, verbose=False)\n",
    "#         boxes = results[0].boxes\n",
    "        \n",
    "#         for box in boxes:\n",
    "#             left_x = int(box.xyxy.tolist()[0][0])\n",
    "#             left_y = int(box.xyxy.tolist()[0][1])\n",
    "#             right_x = int(box.xyxy.tolist()[0][2])\n",
    "#             right_y = int(box.xyxy.tolist()[0][3])\n",
    "            \n",
    "#             face = frame[left_y:right_y, left_x:right_x]\n",
    "            \n",
    "#             frame[left_y:right_y, left_x:right_x] = cv2.blur(face, (40, 40))\n",
    "            \n",
    "#         saveVideo.write(frame)\n",
    "            \n",
    "#         if cv2.waitKey(1) == ord('q'):\n",
    "#             break\n",
    "\n",
    "    \n",
    "# if cap.isOpened():\t# 영상 파일(카메라)이 정상적으로 열렸는지(초기화되었는지) 여부\n",
    "#     cap.release()\t# 영상 파일(카메라) 사용을 종료\n",
    "#     saveVideo.release()\n",
    "    \n",
    "# cv2.destroyAllWindows() \n",
    "# cv2.waitKey(1) #맥에서 창 종료가 안되는 문제 해결\n",
    "# cv2.waitKey(1)\n",
    "# cv2.waitKey(1)\n",
    "# cv2.waitKey(1)"
   ]
  }
 ],
 "metadata": {
  "kernelspec": {
   "display_name": "python-proj",
   "language": "python",
   "name": "python3"
  },
  "language_info": {
   "codemirror_mode": {
    "name": "ipython",
    "version": 3
   },
   "file_extension": ".py",
   "mimetype": "text/x-python",
   "name": "python",
   "nbconvert_exporter": "python",
   "pygments_lexer": "ipython3",
   "version": "3.9.19"
  }
 },
 "nbformat": 4,
 "nbformat_minor": 2
}
